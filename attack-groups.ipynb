{
 "cells": [
  {
   "cell_type": "code",
   "execution_count": 1,
   "id": "95df0a63-45da-4f5f-8ae1-2f29c2a57ec1",
   "metadata": {},
   "outputs": [],
   "source": [
    "from attack import Attack, OldAttack\n",
    "from dataclasses import dataclass, field\n",
    "from pyvis.network import Network\n",
    "from matplotlib import cm\n",
    "import matplotlib\n",
    "import math\n",
    "pi = math.pi\n",
    "\n"
   ]
  },
  {
   "cell_type": "code",
   "execution_count": 2,
   "id": "1eaa42c6-fb01-4f91-9f1e-7b0898b1380e",
   "metadata": {},
   "outputs": [],
   "source": [
    "def PointsInCircum(r,n=15):\n",
    "    return [(math.cos(2*pi/n*x)*r,math.sin(2*pi/n*x)*r) for x in range(0,n+1)]"
   ]
  },
  {
   "cell_type": "code",
   "execution_count": 3,
   "id": "697e0dc9-e595-4117-9444-7bc222e9284c",
   "metadata": {},
   "outputs": [],
   "source": [
    "a = Attack()"
   ]
  },
  {
   "cell_type": "code",
   "execution_count": 4,
   "id": "ffb0d2c4-0d6a-405d-8749-1b9c422f9da2",
   "metadata": {},
   "outputs": [],
   "source": [
    "circle_coords = PointsInCircum(300, n=len(a.cfg.tactics_order))\n",
    "norm = matplotlib.colors.Normalize(vmin=0, vmax=15)"
   ]
  },
  {
   "cell_type": "code",
   "execution_count": null,
   "id": "54f30bac-ad7e-4f30-9afc-3eb0e4d5bd90",
   "metadata": {},
   "outputs": [],
   "source": []
  },
  {
   "cell_type": "code",
   "execution_count": 14,
   "id": "943dcecc-3bb2-4834-9ac7-22a9ec243f73",
   "metadata": {
    "tags": []
   },
   "outputs": [],
   "source": [
    "net = Network(\n",
    "    height='750px',\n",
    "    width='1200px',\n",
    "    notebook=True,\n",
    "    bgcolor='#FFF',\n",
    "    font_color='#111'\n",
    ")\n",
    "\n",
    "net.set_edge_smooth('continuous')"
   ]
  },
  {
   "cell_type": "code",
   "execution_count": 15,
   "id": "52b8fdb5-ce27-449f-9112-58af7d0a2d74",
   "metadata": {
    "tags": []
   },
   "outputs": [],
   "source": [
    "net.add_node('attack', label='ATT&CK', color='#000', physics=True, level=0, mass=100)"
   ]
  },
  {
   "cell_type": "code",
   "execution_count": 16,
   "id": "f0a9c770-2ea7-49a4-8fd3-13edf2f9afb2",
   "metadata": {},
   "outputs": [],
   "source": [
    "tacs = set()\n",
    "for tech in a.techniques_by_soft['S0331']:\n",
    "    # if tech == 'T1065':\n",
    "    #     tech = 'T1571'\n",
    "    for tac in a.techniques[tech].tactics:\n",
    "        tacs.add(tac)"
   ]
  },
  {
   "cell_type": "code",
   "execution_count": 17,
   "id": "2e1e811a-00db-4d2a-bc3f-05a294f9b084",
   "metadata": {},
   "outputs": [],
   "source": [
    "index = 0\n",
    "\n",
    "circle_coords = PointsInCircum(300, n=len(tacs)+1)\n",
    "\n",
    "norm = matplotlib.colors.Normalize(vmin=0, vmax=len(tacs)+1)\n",
    "\n",
    "for tac in tacs:\n",
    "    cords = circle_coords.pop()\n",
    "    \n",
    "    rgba_color = cm.Reds(norm(index),bytes=True) \n",
    "    index+=1\n",
    "    \n",
    "    color = '#%02x%02x%02x' % (rgba_color[0], rgba_color[1], rgba_color[2])\n",
    "    \n",
    "    net.add_node(tac, label=tac.replace('-', ' ').title(), color=color, physics=True, x=cords[0], y=cords[1], level=1, mass=20)\n",
    "    net.add_edge(tac, 'attack')"
   ]
  },
  {
   "cell_type": "code",
   "execution_count": 18,
   "id": "08771860-6ee5-48ed-9dce-9a499a163c24",
   "metadata": {
    "tags": []
   },
   "outputs": [],
   "source": [
    "for tech in a.techniques_by_soft['S0331']:\n",
    "    # if tech == 'T1065':\n",
    "    #     tech = 'T1571'\n",
    "        \n",
    "    if '.' in tech:\n",
    "        parent = tech.split('.')[0]\n",
    "        \n",
    "        if parent not in net.node_ids:\n",
    "            net.add_node(parent, label=a.techniques[parent].name, color='#F33', level=2, mass=5, size=10)\n",
    "            for tac in a.techniques[parent].tactics:\n",
    "                net.add_edge(tac, parent)\n",
    "\n",
    "        net.add_node(tech, label=a.techniques[tech].name, color='#F55', level=3, mass=3, size=5)\n",
    "        net.add_edge(parent, tech)\n",
    "    \n",
    "    else:\n",
    "    \n",
    "        net.add_node(tech, label=a.techniques[tech].name, color='#F55', level=2, mass=5, size=10)\n",
    "        #net.add_edge(a.techniques[tech].tactics[0], tech)\n",
    "\n",
    "        for tac in a.techniques[tech].tactics:\n",
    "            net.add_edge(tac, tech)\n",
    "        "
   ]
  },
  {
   "cell_type": "code",
   "execution_count": 19,
   "id": "9d8cdd83-6f3d-4821-8e35-bc78d1b79204",
   "metadata": {},
   "outputs": [],
   "source": [
    "o1 = \"\"\"\n",
    "var options = {\n",
    "  \"nodes\": {\n",
    "    \"font\": {\n",
    "      \"size\": 15\n",
    "    },\n",
    "    \"shadow\": {\n",
    "      \"enabled\": true,\n",
    "      \"color\": \"rgba(0,0,0,0.7)\",\n",
    "      \"size\": 4,\n",
    "      \"x\": 4,\n",
    "      \"y\": 4\n",
    "    }\n",
    "  },\n",
    "  \"edges\": {\n",
    "    \"color\": {\n",
    "      \"inherit\": true\n",
    "    },\n",
    "    \"font\": {\n",
    "      \"size\": 44\n",
    "    },\n",
    "    \"smooth\": {\n",
    "      \"type\": \"continuous\",\n",
    "      \"forceDirection\": \"none\"\n",
    "    }\n",
    "  },\n",
    "  \"physics\": {\n",
    "    \"barnesHut\": {\n",
    "      \"gravitationalConstant\": -200,\n",
    "      \"centralGravity\": 0\n",
    "    },\n",
    "    \"minVelocity\": 0.75\n",
    "  }\n",
    "}\n",
    "\"\"\"\n",
    "net.set_options(o1)"
   ]
  },
  {
   "cell_type": "code",
   "execution_count": 20,
   "id": "0ffe6b8d-a14e-4f86-a186-e756dd96a880",
   "metadata": {
    "collapsed": true,
    "jupyter": {
     "outputs_hidden": true
    },
    "tags": []
   },
   "outputs": [
    {
     "data": {
      "text/html": [
       "\n",
       "        <iframe\n",
       "            width=\"1200px\"\n",
       "            height=\"750px\"\n",
       "            src=\"graph.html\"\n",
       "            frameborder=\"0\"\n",
       "            allowfullscreen\n",
       "            \n",
       "        ></iframe>\n",
       "        "
      ],
      "text/plain": [
       "<IPython.lib.display.IFrame at 0x7f1a7453a140>"
      ]
     },
     "execution_count": 20,
     "metadata": {},
     "output_type": "execute_result"
    }
   ],
   "source": [
    "#net.show_buttons()\n",
    "net.show('graph.html')"
   ]
  },
  {
   "cell_type": "code",
   "execution_count": 215,
   "id": "05b4db05-203f-47bf-aaad-4dd199be216e",
   "metadata": {},
   "outputs": [],
   "source": []
  },
  {
   "cell_type": "code",
   "execution_count": 40,
   "id": "6d9c8370-031f-4bac-8df8-bf1aa9c6a8db",
   "metadata": {
    "tags": []
   },
   "outputs": [
    {
     "data": {
      "text/plain": [
       "5"
      ]
     },
     "execution_count": 40,
     "metadata": {},
     "output_type": "execute_result"
    }
   ],
   "source": [
    "circle_coords = PointsInCircum(300, n=len(a.cfg.tactics_order))\n",
    "norm = matplotlib.colors.Normalize(vmin=0, vmax=15)"
   ]
  },
  {
   "cell_type": "code",
   "execution_count": 379,
   "id": "3148097f-51b4-4a93-bf14-1851602dccc7",
   "metadata": {
    "tags": []
   },
   "outputs": [
    {
     "data": {
      "text/plain": [
       "'Monitor for unexpected Docker image build requests to the Docker daemon on hosts in the environment. Additionally monitor for subsequent network communication with anomalous IPs that have never been seen before in the environment that indicate the download of malicious code.'"
      ]
     },
     "execution_count": 379,
     "metadata": {},
     "output_type": "execute_result"
    }
   ],
   "source": [
    "a.techniques['T1612'].detection"
   ]
  },
  {
   "cell_type": "code",
   "execution_count": 303,
   "id": "5c335b41-f376-4f4a-b4c4-435aa121ac4f",
   "metadata": {},
   "outputs": [
    {
     "data": {
      "text/html": [
       "\n",
       "        <iframe\n",
       "            width=\"1200px\"\n",
       "            height=\"750px\"\n",
       "            src=\"graph-two.html\"\n",
       "            frameborder=\"0\"\n",
       "            allowfullscreen\n",
       "            \n",
       "        ></iframe>\n",
       "        "
      ],
      "text/plain": [
       "<IPython.lib.display.IFrame at 0x7fe9d9fe8e80>"
      ]
     },
     "execution_count": 303,
     "metadata": {},
     "output_type": "execute_result"
    }
   ],
   "source": [
    "\n",
    "norm = matplotlib.colors.Normalize(vmin=0, vmax=15)\n",
    "rgba_color = cm.Reds(norm(12),bytes=True) \n",
    "net = Network(\n",
    "    height='750px',\n",
    "    width='1200px',\n",
    "    notebook=True,\n",
    "    bgcolor='#222',\n",
    "    font_color='#EEE'\n",
    ")\n",
    "\n",
    "net.set_edge_smooth('continuous')\n",
    "\n",
    "net.add_node('attack', label='ATT&CK', color='#000', physics=True, level=0)\n",
    "\n",
    "tacs = set()\n",
    "for tech in a.techniques_by_soft['S0266']:\n",
    "    if tech == 'T1065':\n",
    "        tech = 'T1571'\n",
    "    for tac in a.techniques[tech].tactics:\n",
    "        tacs.add(tac)\n",
    "        \n",
    "index = 0\n",
    "\n",
    "circle_coords = PointsInCircum(300, n=len(tacs)+1)\n",
    "\n",
    "norm = matplotlib.colors.Normalize(vmin=0, vmax=len(tacs)+1)\n",
    "\n",
    "for tac in tacs:\n",
    "    cords = circle_coords.pop()\n",
    "    \n",
    "    rgba_color = cm.Reds(norm(index),bytes=True) \n",
    "    index+=1\n",
    "    \n",
    "    color = '#%02x%02x%02x' % (rgba_color[0], rgba_color[1], rgba_color[2])\n",
    "    \n",
    "    net.add_node(tac, label=tac.replace('-', ' ').title(), color=color, physics=True, x=cords[0], y=cords[1], level=1, size=25)\n",
    "    net.add_edge(tac, 'attack')\n",
    "    \n",
    "for tech in a.techniques_by_soft['S0266']:\n",
    "    if tech == 'T1065':\n",
    "        tech = 'T1571'\n",
    "        \n",
    "    if '.' in tech:\n",
    "        parent = tech.split('.')[0]\n",
    "        \n",
    "        if parent not in net.node_ids:\n",
    "            net.add_node(parent, label=parent, color='#F33', level=2,  size=10)\n",
    "            for tac in a.techniques[parent].tactics:\n",
    "                net.add_edge(tac, parent)\n",
    "\n",
    "        net.add_node(tech, label=tech, color='#F55', level=3, size=5)\n",
    "        net.add_edge(parent, tech)\n",
    "    \n",
    "    else:\n",
    "    \n",
    "        net.add_node(tech, label=tech, color='#F55', level=2, size=10)\n",
    "        #net.add_edge(a.techniques[tech].tactics[0], tech)\n",
    "\n",
    "        for tac in a.techniques[tech].tactics:\n",
    "            net.add_edge(tac, tech)\n",
    "\n",
    "net.show_buttons()\n",
    "net.show('graph-two.html')"
   ]
  },
  {
   "cell_type": "code",
   "execution_count": 144,
   "id": "ee055761-81dc-4a47-94dd-007917f5e5ce",
   "metadata": {},
   "outputs": [
    {
     "data": {
      "text/plain": [
       "(187, 20, 25, 255)"
      ]
     },
     "execution_count": 144,
     "metadata": {},
     "output_type": "execute_result"
    }
   ],
   "source": [
    " "
   ]
  },
  {
   "cell_type": "code",
   "execution_count": 145,
   "id": "a03beda4-041a-4b9a-9122-b58f5e770fb9",
   "metadata": {},
   "outputs": [
    {
     "data": {
      "text/plain": [
       "'#bb1419'"
      ]
     },
     "execution_count": 145,
     "metadata": {},
     "output_type": "execute_result"
    }
   ],
   "source": []
  },
  {
   "cell_type": "code",
   "execution_count": 406,
   "id": "175c0841-3f17-4a4a-b51f-3dff6df6d6b3",
   "metadata": {},
   "outputs": [],
   "source": [
    "net = Network(\n",
    "    height='750px',\n",
    "    width='1200px',\n",
    "    notebook=True,\n",
    "    bgcolor='#FFF',\n",
    "    font_color='#111'\n",
    ")\n",
    "\n",
    "net.set_edge_smooth('continuous')"
   ]
  },
  {
   "cell_type": "code",
   "execution_count": 407,
   "id": "2ef70618-7a81-480b-b2af-a265d01fae93",
   "metadata": {},
   "outputs": [],
   "source": [
    "net.add_node('attack', label='ATT&CK', color='#000', physics=True, level=0, mass=30)"
   ]
  },
  {
   "cell_type": "code",
   "execution_count": 408,
   "id": "527c6d56-5e2d-4e85-b317-7d8abb034010",
   "metadata": {},
   "outputs": [],
   "source": [
    "tacs = set()\n",
    "for tech in a.techniques_by_soft['S0331']:\n",
    "    if tech == 'T1065':\n",
    "        tech = 'T1571'\n",
    "    for tac in a.techniques[tech].tactics:\n",
    "        tacs.add(tac)"
   ]
  },
  {
   "cell_type": "code",
   "execution_count": 409,
   "id": "ef0f91ea-77cb-4ee7-9022-f83bd358d08e",
   "metadata": {
    "tags": []
   },
   "outputs": [],
   "source": [
    "index = 0\n",
    "\n",
    "circle_coords = PointsInCircum(300, n=len(tacs)+1)\n",
    "\n",
    "norm = matplotlib.colors.Normalize(vmin=0, vmax=len(tacs)+1)\n",
    "\n",
    "prev = 'attack'\n",
    "\n",
    "for tac in tacs:\n",
    "    cords = circle_coords.pop()\n",
    "    \n",
    "    rgba_color = cm.Reds(norm(index),bytes=True) \n",
    "    index+=1\n",
    "    \n",
    "    color = '#%02x%02x%02x' % (rgba_color[0], rgba_color[1], rgba_color[2])\n",
    "    \n",
    "    net.add_node(tac, label=tac.replace('-', ' ').title(), color=color, physics=True, x=cords[0], y=cords[1], level=1, mass=20)\n",
    "    net.add_edge(tac, prev)\n",
    "    prev = tac"
   ]
  },
  {
   "cell_type": "code",
   "execution_count": 410,
   "id": "9ffba7af-7039-4c51-a90b-b14a90a3015d",
   "metadata": {},
   "outputs": [],
   "source": [
    "for tech in a.techniques_by_soft['S0331']:\n",
    "    if tech == 'T1065':\n",
    "        tech = 'T1571'\n",
    "        \n",
    "    if '.' in tech:\n",
    "        parent = tech.split('.')[0]\n",
    "        \n",
    "        if parent not in net.node_ids:\n",
    "            net.add_node(parent, label=a.techniques[parent].name, color='#F33', level=2, mass=5, size=10)\n",
    "            for tac in a.techniques[parent].tactics:\n",
    "                net.add_edge(tac, parent)\n",
    "\n",
    "        net.add_node(tech, label=a.techniques[tech].name, color='#F55', level=3, mass=3, size=5)\n",
    "        net.add_edge(parent, tech)\n",
    "    \n",
    "    else:\n",
    "    \n",
    "        net.add_node(tech, label=a.techniques[tech].name, color='#F55', level=2, mass=5, size=10)\n",
    "        #net.add_edge(a.techniques[tech].tactics[0], tech)\n",
    "\n",
    "        for tac in a.techniques[tech].tactics:\n",
    "            net.add_edge(tac, tech)"
   ]
  },
  {
   "cell_type": "code",
   "execution_count": 411,
   "id": "9a13e8e5-1159-47d3-bf85-88ba431c8e62",
   "metadata": {},
   "outputs": [
    {
     "data": {
      "text/html": [
       "\n",
       "        <iframe\n",
       "            width=\"1200px\"\n",
       "            height=\"750px\"\n",
       "            src=\"graph-line.html\"\n",
       "            frameborder=\"0\"\n",
       "            allowfullscreen\n",
       "            \n",
       "        ></iframe>\n",
       "        "
      ],
      "text/plain": [
       "<IPython.lib.display.IFrame at 0x7fe9c77d83a0>"
      ]
     },
     "execution_count": 411,
     "metadata": {},
     "output_type": "execute_result"
    }
   ],
   "source": [
    "net.show_buttons()\n",
    "net.show('graph-line.html')"
   ]
  },
  {
   "cell_type": "code",
   "execution_count": 33,
   "id": "43bc1845-4321-47b3-8b8d-11efdeced16a",
   "metadata": {},
   "outputs": [],
   "source": [
    "for software_id in a.software:\n",
    "    if not software_id: continue\n",
    "    \n",
    "    net = Network(\n",
    "        height='1050px',\n",
    "        width='1900px',\n",
    "        notebook=True,\n",
    "        bgcolor='#FFF',\n",
    "        font_color='#111'\n",
    "    )\n",
    "\n",
    "    #software_id = 'S0030'\n",
    "\n",
    "    net.set_edge_smooth('continuous')\n",
    "\n",
    "    net.add_node('attack', label=a.software[software_id].name, title=a.software[software_id].aliases, color='#000', physics=True, level=0, mass=30)\n",
    "\n",
    "    tacs = set()\n",
    "    for tech in a.techniques_by_soft[software_id]:\n",
    "        for tac in a.techniques[tech].tactics:\n",
    "            tacs.add(tac)\n",
    "\n",
    "    tacs_fixed = []\n",
    "    for tac in a.cfg.tactics_order:\n",
    "        if tac in tacs:\n",
    "            tacs_fixed.append(tac)\n",
    "    \n",
    "    tacs = tacs_fixed\n",
    "\n",
    "            \n",
    "            \n",
    "    index = 0\n",
    "\n",
    "    circle_coords = PointsInCircum(300, n=len(tacs)+1)\n",
    "\n",
    "    norm = matplotlib.colors.Normalize(vmin=0, vmax=len(tacs)+1)\n",
    "\n",
    "    prev = 'attack'\n",
    "\n",
    "    for tac in tacs:\n",
    "        cords = circle_coords.pop()\n",
    "\n",
    "        rgba_color = cm.Reds(norm(index),bytes=True) \n",
    "        index+=1\n",
    "\n",
    "        color = '#%02x%02x%02x' % (rgba_color[0], rgba_color[1], rgba_color[2])\n",
    "\n",
    "        net.add_node(tac, label=tac.replace('-', ' ').title(), color=color, physics=True, x=cords[0], y=cords[1], level=1, mass=20)\n",
    "        net.add_edge(tac, prev)\n",
    "        prev = tac\n",
    "\n",
    "    for tech in a.techniques_by_soft[software_id]:\n",
    "\n",
    "        if '.' in tech:\n",
    "            parent = tech.split('.')[0]\n",
    "\n",
    "            if parent not in net.node_ids:\n",
    "                net.add_node(parent, \n",
    "                             label=a.techniques[parent].name, \n",
    "                             title=parent, \n",
    "                             color='#F33', \n",
    "                             level=2, mass=5, size=10)\n",
    "                for tac in a.techniques[parent].tactics:\n",
    "                    net.add_edge(tac, parent)\n",
    "\n",
    "            net.add_node(tech, label=a.techniques[tech].name, title=tech, color='#F55', level=3, mass=3, size=5)\n",
    "            net.add_edge(parent, tech)\n",
    "\n",
    "        else:\n",
    "\n",
    "            net.add_node(tech, label=a.techniques[tech].name, title=tech, color='#F55', level=2, mass=5, size=10)\n",
    "            #net.add_edge(a.techniques[tech].tactics[0], tech)\n",
    "\n",
    "            for tac in a.techniques[tech].tactics:\n",
    "                net.add_edge(tac, tech)\n",
    "\n",
    "    #net.show_buttons()\n",
    "\n",
    "    o1 = \"\"\"\n",
    "    var options = {\n",
    "      \"nodes\": {\n",
    "        \"font\": {\n",
    "          \"size\": 15\n",
    "        },\n",
    "        \"shadow\": {\n",
    "          \"enabled\": true,\n",
    "          \"color\": \"rgba(0,0,0,0.7)\",\n",
    "          \"size\": 4,\n",
    "          \"x\": 4,\n",
    "          \"y\": 4\n",
    "        }\n",
    "      },\n",
    "      \"edges\": {\n",
    "        \"color\": {\n",
    "          \"inherit\": true\n",
    "        },\n",
    "        \"font\": {\n",
    "          \"size\": 44\n",
    "        },\n",
    "        \"smooth\": {\n",
    "          \"type\": \"continuous\",\n",
    "          \"forceDirection\": \"none\"\n",
    "        }\n",
    "      },\n",
    "      \"physics\": {\n",
    "        \"barnesHut\": {\n",
    "          \"gravitationalConstant\": -300,\n",
    "          \"centralGravity\": 0,\n",
    "          \"damping\": 0.37\n",
    "        },\n",
    "        \"minVelocity\": 0.75\n",
    "      }\n",
    "    }\n",
    "    \"\"\"\n",
    "    net.set_options(o1)\n",
    "\n",
    "    net.show('malware and tools - techniques graphs/'+software_id+ '-' +a.software[software_id].name.replace('/', '-') + '.html')\n"
   ]
  },
  {
   "cell_type": "code",
   "execution_count": null,
   "id": "6bcf77a8-5bdc-498b-a076-3e667f090d9c",
   "metadata": {},
   "outputs": [],
   "source": []
  },
  {
   "cell_type": "code",
   "execution_count": 444,
   "id": "6dc3d19a-e58a-43f2-a967-c8a1a7d8fb71",
   "metadata": {
    "tags": []
   },
   "outputs": [],
   "source": [
    "fixed = []\n",
    "revoked = {}\n",
    "for rel in a.relations:\n",
    "    if 'revoked-by' == rel.type:\n",
    "        revoked.update({\n",
    "            rel.src: rel.trg\n",
    "        })\n",
    "    \n",
    "for rel in a.relations:\n",
    "    if rel.type != 'revoked-by' and rel.trg in revoked:\n",
    "        rel.trg = revoked[rel.trg]\n",
    "        "
   ]
  },
  {
   "cell_type": "code",
   "execution_count": 26,
   "id": "b2352ffb-fa79-4284-b696-f640fb639dcb",
   "metadata": {},
   "outputs": [
    {
     "data": {
      "text/plain": [
       "dict_keys(['S0066', 'S0065', 'S0469', 'S0045', 'S0073', 'S0331', 'S0092', 'S0504', 'S0584', 'S0622', 'S0456', 'S0373', 'S0438', 'S0347', 'S0129', 'S0640', 'S0473', 'S0344', 'S0031', 'S0245', 'S0642', 'S0128', 'S0470', 'S0127', 'S0017', 'S0069', 'S0520', 'S0657', 'S0360', 'S0415', 'S0114', 'S0014', 'S0043', 'S0638', 'S0414', 'S0475', 'S0093', 'S0606', 'S0337', 'S0234', 'S0239', 'S0534', 'S0574', 'S0268', 'S0570', 'S0089', 'S0564', 'S0486', 'S0635', 'S0651', 'S0252', 'S0204', 'S0482', 'S0025', 'S0462', 'S0222', 'S0023', 'S0212', 'S0137', 'S0454', 'S0274', 'S0077', 'S0351', 'S0030', 'S0484', 'S0335', 'S0348', 'S0261', 'S0572', 'S0144', 'S0631', 'S0220', 'S0107', 'S0020', 'S0611', 'S0054', 'S0154', 'S0338', 'S0369', 'S0126', 'S0244', 'S0608', 'S0575', 'S0492', 'S0050', 'S0614', 'S0046', 'S0115', 'S0235', 'S0538', 'S0498', 'S0625', 'S0255', 'S0616', 'S0213', 'S0497', 'S0334', 'S0187', 'S0243', 'S0354', 'S0021', 'S0200', 'S0281', 'S0600', 'S0186', 'S0134', 'S0384', 'S0547', 'S0502', 'S0567', 'S0038', 'S0062', 'S0024', 'S0593', 'S0605', 'S0064', 'S0568', 'S0377', 'S0624', 'S0554', 'S0081', 'S0082', 'S0367', 'S0634', 'S0091', 'S0396', 'S0152', 'S0401', 'S0343', 'S0569', 'S0181', 'S0267', 'S0618', 'S0036', 'S0173', 'S0628', 'S0076', 'S0512', 'S0171', 'S0182', 'S0355', 'S0143', 'S0381', 'S0383', 'S0503', 'S0277', 'S0410', 'S0026', 'S0417', 'S0168', 'S0049', 'S0460', 'S0249', 'S0597', 'S0588', 'S0493', 'S0477', 'S0531', 'S0237', 'S0342', 'S0632', 'S0561', 'S0132', 'S0151', 'S0037', 'S0214', 'S0246', 'S0391', 'S0061', 'S0617', 'S0135', 'S0232', 'S0376', 'S0070', 'S0047', 'S0499', 'S0170', 'S0087', 'S0394', 'S0009', 'S0601', 'S0431', 'S0203', 'S0398', 'S0537', 'S0189', 'S0483', 'S0604', 'S0259', 'S0260', 'S0015', 'S0389', 'S0044', 'S0201', 'S0648', 'S0163', 'S0528', 'S0215', 'S0271', 'S0526', 'S0156', 'S0356', 'S0088', 'S0265', 'S0585', 'S0487', 'S0387', 'S0276', 'S0607', 'S0599', 'S0437', 'S0641', 'S0162', 'S0236', 'S0042', 'S0395', 'S0211', 'S0362', 'S0513', 'S0397', 'S0372', 'S0447', 'S0582', 'S0451', 'S0532', 'S0010', 'S0443', 'S0233', 'S0282', 'S0409', 'S0652', 'S0167', 'S0449', 'S0459', 'S0576', 'S0530', 'S0455', 'S0339', 'S0133', 'S0051', 'S0280', 'S0084', 'S0083', 'S0080', 'S0079', 'S0553', 'S0149', 'S0284', 'S0256', 'S0272', 'S0034', 'S0198', 'S0353', 'S0205', 'S0228', 'S0336', 'S0637', 'S0247', 'S0630', 'S0210', 'S0056', 'S0033', 'S0457', 'S0508', 'S0118', 'S0368', 'S0138', 'S0165', 'S0402', 'S0352', 'S0644', 'S0346', 'S0340', 'S0439', 'S0365', 'S0052', 'S0264', 'S0229', 'S0072', 'S0598', 'S0016', 'S0626', 'S0158', 'S0254', 'S0435', 'S0216', 'S0150', 'S0145', 'S0223', 'S0371', 'S0184', 'S0613', 'S0196', 'S0197', 'S0208', 'S0556', 'S0587', 'S0643', 'S0517', 'S0048', 'S0501', 'S0124', 'S0013', 'S0428', 'S0012', 'S0518', 'S0453', 'S0177', 'S0139', 'S0441', 'S0393', 'S0113', 'S0654', 'S0279', 'S0238', 'S0078', 'S0147', 'S0583', 'S0269', 'S0650', 'S0055', 'S0241', 'S0495', 'S0416', 'S0496', 'S0258', 'S0003', 'S0112', 'S0240', 'S0148', 'S0481', 'S0565', 'S0629', 'S0458', 'S0169', 'S0172', 'S0153', 'S0511', 'S0019', 'S0375', 'S0166', 'S0125', 'S0379', 'S0433', 'S0448', 'S0400', 'S0270', 'S0090', 'S0253', 'S0446', 'S0085', 'S0461', 'S0185', 'S0450', 'S0028', 'S0063', 'S0217', 'S0533', 'S0218', 'S0649', 'S0159', 'S0157', 'S0035', 'S0390', 'S0559', 'S0562', 'S0578', 'S0519', 'S0464', 'S0074', 'S0370', 'S0053', 'S0345', 'S0382', 'S0639', 'S0596', 'S0140', 'S0546', 'S0444', 'S0589', 'S0610', 'S0623', 'S0007', 'S0468', 'S0226', 'S0273', 'S0627', 'S0615', 'S0516', 'S0543', 'S0374', 'S0646', 'S0058', 'S0188', 'S0380', 'S0142', 'S0491', 'S0603', 'S0018', 'S0242', 'S0060', 'S0098', 'S0586', 'S0164', 'S0560', 'S0146', 'S0131', 'S0609', 'S0436', 'S0199', 'S0263', 'S0011', 'S0467', 'S0595', 'S0004', 'S0266', 'S0094', 'S0001', 'S0178', 'S0647', 'S0333', 'S0275', 'S0136', 'S0452', 'S0221', 'S0130', 'S0022', 'S0386', 'S0442', 'S0257', 'S0476', 'S0636', 'S0207', 'S0180', 'S0109', 'S0155', 'S0219', 'S0366', 'S0612', 'S0579', 'S0515', 'S0514', 'S0206', 'S0059', 'S0466', 'S0176', 'S0430', 'S0141', 'S0041', 'S0161', 'S0658', 'S0117', 'S0341', 'S0388', 'S0086', 'S0251', 'S0230', 'S0027', 'S0330', 'S0412', 'S0202', 'S0471', 'S0472', 'S0032', 'S0071', 'S0068', 'S0278', 'S0283', 'S0385', 'S0067', 'S0653', 'S0248', 'S0350', None, 'S0552', 'S0099', 'S0190', 'S0521', 'S0465', 'S0527', 'S0119', 'S0591', 'S0488', 'S0363', 'S0361', 'S0095', 'S0120', 'S0193', 'S0040', 'S0224', 'S0434', 'S0357', 'S0231', 'S0581', 'S0250', 'S0349', 'S0121', 'S0500', 'S0413', 'S0179', 'S0002', 'S0590', 'S0039', 'S0359', 'S0594', 'S0122', 'S0097', 'S0378', 'S0194', 'S0029', 'S0192', 'S0262', 'S0364', 'S0075', 'S0332', 'S0592', 'S0174', 'S0358', 'S0195', 'S0445', 'S0633', 'S0096', 'S0057', 'S0183', 'S0116', 'S0645', 'S0005', 'S0191', 'S0110', 'S0160', 'S0106', 'S0105', 'S0404', 'S0008', 'S0101', 'S0100', 'S0175', 'S0102', 'S0108', 'S0104', 'S0006', 'S0103', 'S0111', 'S0227', 'S0225', 'S0123'])"
      ]
     },
     "execution_count": 26,
     "metadata": {},
     "output_type": "execute_result"
    }
   ],
   "source": [
    "a.software.keys()"
   ]
  },
  {
   "cell_type": "code",
   "execution_count": 439,
   "id": "1c14fa79-1ff9-4805-a4f6-061e937a92fb",
   "metadata": {},
   "outputs": [],
   "source": [
    "a = ['a', 'b']"
   ]
  },
  {
   "cell_type": "code",
   "execution_count": 440,
   "id": "6ca05da7-deaa-457b-b9c9-8d34aba90477",
   "metadata": {},
   "outputs": [],
   "source": [
    "a.remove('a')"
   ]
  },
  {
   "cell_type": "code",
   "execution_count": 441,
   "id": "3e99034e-7a27-4eac-a113-d8d5477d0980",
   "metadata": {},
   "outputs": [
    {
     "data": {
      "text/plain": [
       "['b']"
      ]
     },
     "execution_count": 441,
     "metadata": {},
     "output_type": "execute_result"
    }
   ],
   "source": [
    "a"
   ]
  },
  {
   "cell_type": "code",
   "execution_count": null,
   "id": "1c119a51-5a94-4ed2-8e83-2772f95e82d5",
   "metadata": {},
   "outputs": [],
   "source": []
  }
 ],
 "metadata": {
  "kernelspec": {
   "display_name": "Python 3 (ipykernel)",
   "language": "python",
   "name": "python3"
  },
  "language_info": {
   "codemirror_mode": {
    "name": "ipython",
    "version": 3
   },
   "file_extension": ".py",
   "mimetype": "text/x-python",
   "name": "python",
   "nbconvert_exporter": "python",
   "pygments_lexer": "ipython3",
   "version": "3.10.1"
  }
 },
 "nbformat": 4,
 "nbformat_minor": 5
}
