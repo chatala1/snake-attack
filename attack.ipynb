{
 "cells": [
  {
   "cell_type": "code",
   "execution_count": 62,
   "id": "95df0a63-45da-4f5f-8ae1-2f29c2a57ec1",
   "metadata": {},
   "outputs": [],
   "source": [
    "from json import loads, dumps\n",
    "from requests import get\n",
    "from types import SimpleNamespace\n",
    "from dataclasses import dataclass, field"
   ]
  },
  {
   "cell_type": "code",
   "execution_count": 125,
   "id": "54f30bac-ad7e-4f30-9afc-3eb0e4d5bd90",
   "metadata": {},
   "outputs": [],
   "source": [
    "def load_config(filename='config.json'):\n",
    "    with open(filename, 'r') as file:\n",
    "        return SimpleNamespace(**loads(file.read()))\n",
    "    \n",
    "def download_attack(url):\n",
    "    response = get(url)\n",
    "    if response.ok:\n",
    "        return response.json()\n",
    "    \n",
    "def collect_objects(attack):\n",
    "    collections = {}\n",
    "    for obj in attack['objects']:\n",
    "        tp = obj['type']\n",
    "        if tp in collections:\n",
    "            collections[tp].append(obj)\n",
    "        else:\n",
    "            collections.update({\n",
    "                tp: [obj]\n",
    "            })\n",
    "    return collections\n",
    "\n",
    "def get_technique_id(references):\n",
    "    for ref in references:\n",
    "        if ref['source_name'] == 'mitre-attack':\n",
    "            return ref['external_id']\n",
    "    return None\n",
    "\n",
    "@dataclass\n",
    "class ATechnique:\n",
    "    name: str\n",
    "    description: str = \"\"\n",
    "    detection: str = \"\"\n",
    "    data_sources: list = field(default_factory=list)\n",
    "    platforms: list = field(default_factory=list)\n",
    "    permissions_required: list = field(default_factory=list)\n",
    "    defenses_bypassed: list = field(default_factory=list)\n",
    "    id: str = \"\"\n",
    "    tactics: list = field(default_factory=list)\n",
    "    references: list = field(default_factory=list)\n",
    "    ref: str = \"\"\n",
    "    \n",
    "@dataclass\n",
    "class ARelation:\n",
    "    source : str\n",
    "    target : str\n",
    "    description: str\n",
    "    type: str\n",
    "    ref: str\n",
    "    \n",
    "def parse_techniques(objects):\n",
    "    techniques = []\n",
    "    for obj in collections['attack-pattern']:\n",
    "\n",
    "        if 'revoked' in obj and obj['revoked']: continue\n",
    "\n",
    "        id = get_technique_id(obj['external_references'])\n",
    "        \n",
    "        tactics = []\n",
    "        for tac in obj['kill_chain_phases']:\n",
    "            if tac['kill_chain_name'] == 'mitre-attack':\n",
    "                tactics.append(\n",
    "                    tac['phase_name']\n",
    "                )\n",
    "\n",
    "        defense = []\n",
    "        if 'x_mitre_defense_bypassed' in obj and obj['x_mitre_defense_bypassed']:\n",
    "            defense = obj['x_mitre_defense_bypassed']\n",
    "\n",
    "        permissions = []\n",
    "        if 'x_mitre_permissions_required' in obj and obj['x_mitre_permissions_required']:\n",
    "            permissions = obj['x_mitre_permissions_required']\n",
    "\n",
    "        tech = {\n",
    "            'name': obj['name'],\n",
    "            'platforms': obj['x_mitre_platforms'],\n",
    "            'permissions_required': permissions,\n",
    "            'defenses_bypassed': defense,\n",
    "            'description': obj['description'],\n",
    "            'detection': obj['x_mitre_detection'],\n",
    "            'tactics': tactics,\n",
    "            'id': id,\n",
    "            'ref': obj['id']\n",
    "        }\n",
    "\n",
    "        atech = ATechnique(**tech)\n",
    "        techniques.append(atech)\n",
    "    return techniques\n",
    "\n",
    "def parse_relations(relations):\n",
    "    result_relations = []\n",
    "    for rel in relations:\n",
    "        data = {\n",
    "            'source' : rel['source_ref'],\n",
    "            'target' : rel['target_ref'],\n",
    "            'description': rel.get('description', ''),\n",
    "            'type': rel['relationship_type'],\n",
    "            'ref': rel['id']\n",
    "        }\n",
    "        result_relations.append(\n",
    "            ARelation(**data)\n",
    "        )\n",
    "    return result_relations\n"
   ]
  },
  {
   "cell_type": "code",
   "execution_count": 100,
   "id": "61a94026-2712-408f-aa48-d964c21355e6",
   "metadata": {},
   "outputs": [],
   "source": [
    "cfg = load_config()"
   ]
  },
  {
   "cell_type": "code",
   "execution_count": 101,
   "id": "c152ccae-fdb9-4818-8c6b-1435ff0de1e1",
   "metadata": {},
   "outputs": [],
   "source": [
    "attack = download_attack(cfg.attack_data)"
   ]
  },
  {
   "cell_type": "code",
   "execution_count": 102,
   "id": "45833525-1c1b-4c0a-81ef-a97a891b850d",
   "metadata": {},
   "outputs": [],
   "source": [
    "collections = collect_objects(attack)"
   ]
  },
  {
   "cell_type": "code",
   "execution_count": 118,
   "id": "a01faa36-bcea-43f2-9f05-82f9ba9e4cb9",
   "metadata": {
    "tags": []
   },
   "outputs": [],
   "source": [
    "techniques = parse_techniques(collections['attack-pattern'])"
   ]
  },
  {
   "cell_type": "code",
   "execution_count": 126,
   "id": "91b8f4a0-da22-47ed-b683-482312bf5f2b",
   "metadata": {},
   "outputs": [],
   "source": [
    "relations = parse_relations(collections['relationship'])"
   ]
  },
  {
   "cell_type": "code",
   "execution_count": null,
   "id": "ccbaf05b-14ab-43df-990d-14dad5e1dadb",
   "metadata": {},
   "outputs": [],
   "source": [
    "\n",
    "    "
   ]
  },
  {
   "cell_type": "code",
   "execution_count": null,
   "id": "56e10373-9bcc-462e-b5b4-42ebceff5991",
   "metadata": {},
   "outputs": [],
   "source": [
    "\n",
    "    \n",
    "    "
   ]
  },
  {
   "cell_type": "code",
   "execution_count": null,
   "id": "fd7e6620-e25a-48f5-8618-9eb5438d88de",
   "metadata": {},
   "outputs": [],
   "source": []
  },
  {
   "cell_type": "code",
   "execution_count": null,
   "id": "f54d2cc6-1b7f-4ec0-8b3b-f8775cc99b49",
   "metadata": {},
   "outputs": [],
   "source": []
  },
  {
   "cell_type": "code",
   "execution_count": 111,
   "id": "ab7834c3-4cbf-4a63-ab6a-56ef8f3f7466",
   "metadata": {},
   "outputs": [],
   "source": []
  },
  {
   "cell_type": "code",
   "execution_count": null,
   "id": "a3e1fb07-e1f2-4928-ae51-079de1e5a49c",
   "metadata": {},
   "outputs": [],
   "source": []
  },
  {
   "cell_type": "code",
   "execution_count": null,
   "id": "4da1f6f5-9110-420d-a521-cc1781ada442",
   "metadata": {},
   "outputs": [],
   "source": []
  }
 ],
 "metadata": {
  "kernelspec": {
   "display_name": "Python 3 (ipykernel)",
   "language": "python",
   "name": "python3"
  },
  "language_info": {
   "codemirror_mode": {
    "name": "ipython",
    "version": 3
   },
   "file_extension": ".py",
   "mimetype": "text/x-python",
   "name": "python",
   "nbconvert_exporter": "python",
   "pygments_lexer": "ipython3",
   "version": "3.10.1"
  }
 },
 "nbformat": 4,
 "nbformat_minor": 5
}
